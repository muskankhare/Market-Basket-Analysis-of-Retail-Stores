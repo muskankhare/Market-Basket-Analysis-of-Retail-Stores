{
 "cells": [
  {
   "cell_type": "code",
   "execution_count": null,
   "metadata": {
    "colab": {
     "base_uri": "https://localhost:8080/"
    },
    "id": "cDyws7X8H4Uo",
    "outputId": "3ac8aa1b-3916-4d75-b894-05b319d67ec5"
   },
   "outputs": [
    {
     "name": "stdout",
     "output_type": "stream",
     "text": [
      "Requirement already satisfied: pyspark in c:\\users\\dhruv\\anaconda3\\lib\\site-packages (3.2.1)\n",
      "Requirement already satisfied: py4j==0.10.9.3 in c:\\users\\dhruv\\anaconda3\\lib\\site-packages (from pyspark) (0.10.9.3)\n"
     ]
    }
   ],
   "source": [
    "!pip install pyspark"
   ]
  },
  {
   "cell_type": "code",
   "execution_count": null,
   "metadata": {
    "id": "t1n6pgMnIhJn"
   },
   "outputs": [],
   "source": [
    "from pyspark.sql import SparkSession\n",
    "import pandas as pd\n",
    "from pyspark.sql.functions import col, isnan, when, count, isnull\n",
    "import matplotlib.pyplot as plt\n",
    "import seaborn as sns\n",
    "from pyspark.ml.feature import StringIndexer\n",
    "from pyspark.sql import SQLContext, SparkSession\n",
    "from pyspark.sql.functions import *\n",
    "import numpy as np"
   ]
  },
  {
   "cell_type": "code",
   "execution_count": null,
   "metadata": {
    "colab": {
     "base_uri": "https://localhost:8080/"
    },
    "id": "QYMroLrtI4SG",
    "outputId": "a299e503-9cca-47a5-d2e1-51331a2579dd"
   },
   "outputs": [
    {
     "name": "stdout",
     "output_type": "stream",
     "text": [
      "root\n",
      " |-- BillNo: string (nullable = true)\n",
      " |-- Itemname: string (nullable = true)\n",
      " |-- Quantity: string (nullable = true)\n",
      " |-- Date: string (nullable = true)\n",
      " |-- Price: string (nullable = true)\n",
      " |-- CustomerID: string (nullable = true)\n",
      " |-- Country: string (nullable = true)\n",
      "\n"
     ]
    }
   ],
   "source": [
    "spark = SparkSession.builder.appName(\"Apriori\").getOrCreate()\n",
    "df = spark.read.csv('D:\\DAIICT\\SEMESTER_2\\BDP\\dataset\\Assignment-1_Data.csv', sep=';',header = True)\n",
    "df.printSchema()"
   ]
  },
  {
   "cell_type": "code",
   "execution_count": null,
   "metadata": {
    "colab": {
     "base_uri": "https://localhost:8080/"
    },
    "id": "lXDwmSHTJRT3",
    "outputId": "699c077a-cb0e-47a7-f8bf-d951374210f6"
   },
   "outputs": [
    {
     "name": "stdout",
     "output_type": "stream",
     "text": [
      "+------+--------------------+--------+----------------+-----+----------+--------------+\n",
      "|BillNo|            Itemname|Quantity|            Date|Price|CustomerID|       Country|\n",
      "+------+--------------------+--------+----------------+-----+----------+--------------+\n",
      "|536365|WHITE HANGING HEA...|       6|01.12.2010 08:26| 2,55|     17850|United Kingdom|\n",
      "|536365| WHITE METAL LANTERN|       6|01.12.2010 08:26| 3,39|     17850|United Kingdom|\n",
      "|536365|CREAM CUPID HEART...|       8|01.12.2010 08:26| 2,75|     17850|United Kingdom|\n",
      "|536365|KNITTED UNION FLA...|       6|01.12.2010 08:26| 3,39|     17850|United Kingdom|\n",
      "|536365|RED WOOLLY HOTTIE...|       6|01.12.2010 08:26| 3,39|     17850|United Kingdom|\n",
      "|536365|SET 7 BABUSHKA NE...|       2|01.12.2010 08:26| 7,65|     17850|United Kingdom|\n",
      "|536365|GLASS STAR FROSTE...|       6|01.12.2010 08:26| 4,25|     17850|United Kingdom|\n",
      "|536366|HAND WARMER UNION...|       6|01.12.2010 08:28| 1,85|     17850|United Kingdom|\n",
      "|536366|HAND WARMER RED P...|       6|01.12.2010 08:28| 1,85|     17850|United Kingdom|\n",
      "|536367|ASSORTED COLOUR B...|      32|01.12.2010 08:34| 1,69|     13047|United Kingdom|\n",
      "|536367|POPPY'S PLAYHOUSE...|       6|01.12.2010 08:34|  2,1|     13047|United Kingdom|\n",
      "|536367|POPPY'S PLAYHOUSE...|       6|01.12.2010 08:34|  2,1|     13047|United Kingdom|\n",
      "|536367|FELTCRAFT PRINCES...|       8|01.12.2010 08:34| 3,75|     13047|United Kingdom|\n",
      "|536367|IVORY KNITTED MUG...|       6|01.12.2010 08:34| 1,65|     13047|United Kingdom|\n",
      "|536367|BOX OF 6 ASSORTED...|       6|01.12.2010 08:34| 4,25|     13047|United Kingdom|\n",
      "|536367|BOX OF VINTAGE JI...|       3|01.12.2010 08:34| 4,95|     13047|United Kingdom|\n",
      "|536367|BOX OF VINTAGE AL...|       2|01.12.2010 08:34| 9,95|     13047|United Kingdom|\n",
      "|536367|HOME BUILDING BLO...|       3|01.12.2010 08:34| 5,95|     13047|United Kingdom|\n",
      "|536367|LOVE BUILDING BLO...|       3|01.12.2010 08:34| 5,95|     13047|United Kingdom|\n",
      "|536367|RECIPE BOX WITH M...|       4|01.12.2010 08:34| 7,95|     13047|United Kingdom|\n",
      "+------+--------------------+--------+----------------+-----+----------+--------------+\n",
      "only showing top 20 rows\n",
      "\n"
     ]
    }
   ],
   "source": [
    "df.show()"
   ]
  },
  {
   "cell_type": "code",
   "execution_count": null,
   "metadata": {
    "id": "faqOR-V8M_GD",
    "outputId": "8a02fcf1-25b4-4e4a-9ad1-e5dccd57740c"
   },
   "outputs": [
    {
     "data": {
      "text/html": [
       "<div>\n",
       "<style scoped>\n",
       "    .dataframe tbody tr th:only-of-type {\n",
       "        vertical-align: middle;\n",
       "    }\n",
       "\n",
       "    .dataframe tbody tr th {\n",
       "        vertical-align: top;\n",
       "    }\n",
       "\n",
       "    .dataframe thead th {\n",
       "        text-align: right;\n",
       "    }\n",
       "</style>\n",
       "<table border=\"1\" class=\"dataframe\">\n",
       "  <thead>\n",
       "    <tr style=\"text-align: right;\">\n",
       "      <th></th>\n",
       "      <th>summary</th>\n",
       "      <th>BillNo</th>\n",
       "      <th>Itemname</th>\n",
       "      <th>Quantity</th>\n",
       "      <th>Date</th>\n",
       "      <th>Price</th>\n",
       "      <th>CustomerID</th>\n",
       "      <th>Country</th>\n",
       "    </tr>\n",
       "  </thead>\n",
       "  <tbody>\n",
       "    <tr>\n",
       "      <th>0</th>\n",
       "      <td>count</td>\n",
       "      <td>522064</td>\n",
       "      <td>520609</td>\n",
       "      <td>522064</td>\n",
       "      <td>522064</td>\n",
       "      <td>522064</td>\n",
       "      <td>388023</td>\n",
       "      <td>522064</td>\n",
       "    </tr>\n",
       "    <tr>\n",
       "      <th>1</th>\n",
       "      <td>mean</td>\n",
       "      <td>559950.7852856276</td>\n",
       "      <td>None</td>\n",
       "      <td>10.090435272303779</td>\n",
       "      <td>None</td>\n",
       "      <td>15.576812289966394</td>\n",
       "      <td>15316.931710233672</td>\n",
       "      <td>None</td>\n",
       "    </tr>\n",
       "    <tr>\n",
       "      <th>2</th>\n",
       "      <td>stddev</td>\n",
       "      <td>13452.750899837123</td>\n",
       "      <td>None</td>\n",
       "      <td>161.11052518229036</td>\n",
       "      <td>None</td>\n",
       "      <td>72.62169390055651</td>\n",
       "      <td>1721.8469642664234</td>\n",
       "      <td>None</td>\n",
       "    </tr>\n",
       "    <tr>\n",
       "      <th>3</th>\n",
       "      <td>min</td>\n",
       "      <td>536365</td>\n",
       "      <td>\"ASSORTED FLOWER COLOUR \"\"LEIS\"\"\"</td>\n",
       "      <td>-1</td>\n",
       "      <td>01.02.2011 08:23</td>\n",
       "      <td>-11062,06</td>\n",
       "      <td>12346</td>\n",
       "      <td>Australia</td>\n",
       "    </tr>\n",
       "    <tr>\n",
       "      <th>4</th>\n",
       "      <td>25%</td>\n",
       "      <td>547892.0</td>\n",
       "      <td>None</td>\n",
       "      <td>1.0</td>\n",
       "      <td>None</td>\n",
       "      <td>0.0</td>\n",
       "      <td>13950.0</td>\n",
       "      <td>None</td>\n",
       "    </tr>\n",
       "    <tr>\n",
       "      <th>5</th>\n",
       "      <td>50%</td>\n",
       "      <td>560601.0</td>\n",
       "      <td>None</td>\n",
       "      <td>3.0</td>\n",
       "      <td>None</td>\n",
       "      <td>0.0</td>\n",
       "      <td>15265.0</td>\n",
       "      <td>None</td>\n",
       "    </tr>\n",
       "    <tr>\n",
       "      <th>6</th>\n",
       "      <td>75%</td>\n",
       "      <td>571895.0</td>\n",
       "      <td>None</td>\n",
       "      <td>10.0</td>\n",
       "      <td>None</td>\n",
       "      <td>18.0</td>\n",
       "      <td>16837.0</td>\n",
       "      <td>None</td>\n",
       "    </tr>\n",
       "    <tr>\n",
       "      <th>7</th>\n",
       "      <td>max</td>\n",
       "      <td>A563187</td>\n",
       "      <td>wrongly sold sets</td>\n",
       "      <td>992</td>\n",
       "      <td>31.10.2011 17:19</td>\n",
       "      <td>99,96</td>\n",
       "      <td>18287</td>\n",
       "      <td>Unspecified</td>\n",
       "    </tr>\n",
       "  </tbody>\n",
       "</table>\n",
       "</div>"
      ],
      "text/plain": [
       "  summary              BillNo                           Itemname  \\\n",
       "0   count              522064                             520609   \n",
       "1    mean   559950.7852856276                               None   \n",
       "2  stddev  13452.750899837123                               None   \n",
       "3     min              536365  \"ASSORTED FLOWER COLOUR \"\"LEIS\"\"\"   \n",
       "4     25%            547892.0                               None   \n",
       "5     50%            560601.0                               None   \n",
       "6     75%            571895.0                               None   \n",
       "7     max             A563187                  wrongly sold sets   \n",
       "\n",
       "             Quantity              Date               Price  \\\n",
       "0              522064            522064              522064   \n",
       "1  10.090435272303779              None  15.576812289966394   \n",
       "2  161.11052518229036              None   72.62169390055651   \n",
       "3                  -1  01.02.2011 08:23           -11062,06   \n",
       "4                 1.0              None                 0.0   \n",
       "5                 3.0              None                 0.0   \n",
       "6                10.0              None                18.0   \n",
       "7                 992  31.10.2011 17:19               99,96   \n",
       "\n",
       "           CustomerID      Country  \n",
       "0              388023       522064  \n",
       "1  15316.931710233672         None  \n",
       "2  1721.8469642664234         None  \n",
       "3               12346    Australia  \n",
       "4             13950.0         None  \n",
       "5             15265.0         None  \n",
       "6             16837.0         None  \n",
       "7               18287  Unspecified  "
      ]
     },
     "execution_count": 5,
     "metadata": {},
     "output_type": "execute_result"
    }
   ],
   "source": [
    "summary1 = df.summary().toPandas()\n",
    "summary1"
   ]
  },
  {
   "cell_type": "markdown",
   "metadata": {
    "id": "uoNzuidqQ1ta"
   },
   "source": [
    "Missing Values"
   ]
  },
  {
   "cell_type": "code",
   "execution_count": null,
   "metadata": {
    "id": "wFZnpBU0QTMz",
    "outputId": "723f04db-f3ec-460e-a5e1-3c6f9246157f"
   },
   "outputs": [
    {
     "name": "stdout",
     "output_type": "stream",
     "text": [
      "+------+--------+--------+----+-----+----------+-------+\n",
      "|BillNo|Itemname|Quantity|Date|Price|CustomerID|Country|\n",
      "+------+--------+--------+----+-----+----------+-------+\n",
      "|     0|    1455|       0|   0|    0|    134041|      0|\n",
      "+------+--------+--------+----+-----+----------+-------+\n",
      "\n"
     ]
    }
   ],
   "source": [
    "missing_counts = df.select([count(when(isnull(c) | isnan(c), c)).alias(c) for c in df.columns])\n",
    "missing_counts.show()"
   ]
  },
  {
   "cell_type": "markdown",
   "metadata": {
    "id": "u1Ai56UfRhKz"
   },
   "source": [
    "Filling Null values in CustomerID with 999999"
   ]
  },
  {
   "cell_type": "code",
   "execution_count": null,
   "metadata": {
    "id": "AVjH-GuJRBxL"
   },
   "outputs": [],
   "source": [
    "df = df.fillna(999999,subset='CustomerID')"
   ]
  },
  {
   "cell_type": "code",
   "execution_count": null,
   "metadata": {
    "id": "lBs71hTFR5sU",
    "outputId": "f4ea948a-d26d-4f4e-b080-7f40b6cab1a6"
   },
   "outputs": [
    {
     "data": {
      "text/html": [
       "<div>\n",
       "<style scoped>\n",
       "    .dataframe tbody tr th:only-of-type {\n",
       "        vertical-align: middle;\n",
       "    }\n",
       "\n",
       "    .dataframe tbody tr th {\n",
       "        vertical-align: top;\n",
       "    }\n",
       "\n",
       "    .dataframe thead th {\n",
       "        text-align: right;\n",
       "    }\n",
       "</style>\n",
       "<table border=\"1\" class=\"dataframe\">\n",
       "  <thead>\n",
       "    <tr style=\"text-align: right;\">\n",
       "      <th></th>\n",
       "      <th>summary</th>\n",
       "      <th>BillNo</th>\n",
       "      <th>Itemname</th>\n",
       "      <th>Quantity</th>\n",
       "      <th>Date</th>\n",
       "      <th>Price</th>\n",
       "      <th>CustomerID</th>\n",
       "      <th>Country</th>\n",
       "    </tr>\n",
       "  </thead>\n",
       "  <tbody>\n",
       "    <tr>\n",
       "      <th>0</th>\n",
       "      <td>count</td>\n",
       "      <td>522064</td>\n",
       "      <td>520609</td>\n",
       "      <td>522064</td>\n",
       "      <td>522064</td>\n",
       "      <td>522064</td>\n",
       "      <td>388023</td>\n",
       "      <td>522064</td>\n",
       "    </tr>\n",
       "    <tr>\n",
       "      <th>1</th>\n",
       "      <td>mean</td>\n",
       "      <td>559950.7852856276</td>\n",
       "      <td>None</td>\n",
       "      <td>10.090435272303779</td>\n",
       "      <td>None</td>\n",
       "      <td>15.576812289966394</td>\n",
       "      <td>15316.931710233672</td>\n",
       "      <td>None</td>\n",
       "    </tr>\n",
       "    <tr>\n",
       "      <th>2</th>\n",
       "      <td>stddev</td>\n",
       "      <td>13452.750899837</td>\n",
       "      <td>None</td>\n",
       "      <td>161.11052518229036</td>\n",
       "      <td>None</td>\n",
       "      <td>72.62169390055651</td>\n",
       "      <td>1721.8469642664231</td>\n",
       "      <td>None</td>\n",
       "    </tr>\n",
       "    <tr>\n",
       "      <th>3</th>\n",
       "      <td>min</td>\n",
       "      <td>536365</td>\n",
       "      <td>\"ASSORTED FLOWER COLOUR \"\"LEIS\"\"\"</td>\n",
       "      <td>-1</td>\n",
       "      <td>01.02.2011 08:23</td>\n",
       "      <td>-11062,06</td>\n",
       "      <td>12346</td>\n",
       "      <td>Australia</td>\n",
       "    </tr>\n",
       "    <tr>\n",
       "      <th>4</th>\n",
       "      <td>max</td>\n",
       "      <td>A563187</td>\n",
       "      <td>wrongly sold sets</td>\n",
       "      <td>992</td>\n",
       "      <td>31.10.2011 17:19</td>\n",
       "      <td>99,96</td>\n",
       "      <td>18287</td>\n",
       "      <td>Unspecified</td>\n",
       "    </tr>\n",
       "  </tbody>\n",
       "</table>\n",
       "</div>"
      ],
      "text/plain": [
       "  summary             BillNo                           Itemname  \\\n",
       "0   count             522064                             520609   \n",
       "1    mean  559950.7852856276                               None   \n",
       "2  stddev    13452.750899837                               None   \n",
       "3     min             536365  \"ASSORTED FLOWER COLOUR \"\"LEIS\"\"\"   \n",
       "4     max            A563187                  wrongly sold sets   \n",
       "\n",
       "             Quantity              Date               Price  \\\n",
       "0              522064            522064              522064   \n",
       "1  10.090435272303779              None  15.576812289966394   \n",
       "2  161.11052518229036              None   72.62169390055651   \n",
       "3                  -1  01.02.2011 08:23           -11062,06   \n",
       "4                 992  31.10.2011 17:19               99,96   \n",
       "\n",
       "           CustomerID      Country  \n",
       "0              388023       522064  \n",
       "1  15316.931710233672         None  \n",
       "2  1721.8469642664231         None  \n",
       "3               12346    Australia  \n",
       "4               18287  Unspecified  "
      ]
     },
     "execution_count": 8,
     "metadata": {},
     "output_type": "execute_result"
    }
   ],
   "source": [
    "summary2 = df.describe().toPandas()\n",
    "summary2"
   ]
  },
  {
   "cell_type": "markdown",
   "metadata": {
    "id": "gQ3GaNQejmFk"
   },
   "source": [
    "We can see that min Quantity is -1 which is not possible."
   ]
  },
  {
   "cell_type": "code",
   "execution_count": null,
   "metadata": {
    "id": "66pS6DOySGuj",
    "outputId": "2d5b27fe-d7a0-4b49-da7e-49af9d5f1ca4"
   },
   "outputs": [
    {
     "name": "stdout",
     "output_type": "stream",
     "text": [
      "+------+--------+--------+----------------+-----+----------+--------------+\n",
      "|BillNo|Itemname|Quantity|            Date|Price|CustomerID|       Country|\n",
      "+------+--------+--------+----------------+-----+----------+--------------+\n",
      "|536589|    null|     -10|01.12.2010 16:50|    0|      null|United Kingdom|\n",
      "|536764|    null|     -38|02.12.2010 14:42|    0|      null|United Kingdom|\n",
      "|536996|    null|     -20|03.12.2010 15:30|    0|      null|United Kingdom|\n",
      "|536997|    null|     -20|03.12.2010 15:30|    0|      null|United Kingdom|\n",
      "|536998|    null|      -6|03.12.2010 15:30|    0|      null|United Kingdom|\n",
      "|537000|    null|     -22|03.12.2010 15:32|    0|      null|United Kingdom|\n",
      "|537001|    null|      -6|03.12.2010 15:33|    0|      null|United Kingdom|\n",
      "|537003|    null|      -2|03.12.2010 15:33|    0|      null|United Kingdom|\n",
      "|537004|    null|     -30|03.12.2010 15:34|    0|      null|United Kingdom|\n",
      "|537005|    null|     -70|03.12.2010 15:35|    0|      null|United Kingdom|\n",
      "|537006|    null|    -130|03.12.2010 15:36|    0|      null|United Kingdom|\n",
      "|537007|    null|     -80|03.12.2010 15:36|    0|      null|United Kingdom|\n",
      "|537008|    null|    -120|03.12.2010 15:37|    0|      null|United Kingdom|\n",
      "|537009|    null|     -80|03.12.2010 15:38|    0|      null|United Kingdom|\n",
      "|537010|    null|     -40|03.12.2010 15:38|    0|      null|United Kingdom|\n",
      "|537011|    null|      -5|03.12.2010 15:38|    0|      null|United Kingdom|\n",
      "|537012|    null|     -12|03.12.2010 15:39|    0|      null|United Kingdom|\n",
      "|537013|    null|     -25|03.12.2010 15:40|    0|      null|United Kingdom|\n",
      "|537014|    null|     -20|03.12.2010 15:40|    0|      null|United Kingdom|\n",
      "|537015|    null|     -14|03.12.2010 15:41|    0|      null|United Kingdom|\n",
      "+------+--------+--------+----------------+-----+----------+--------------+\n",
      "only showing top 20 rows\n",
      "\n"
     ]
    }
   ],
   "source": [
    "df.filter(df.Quantity<=0).show()"
   ]
  },
  {
   "cell_type": "markdown",
   "metadata": {
    "id": "KsK1CaHHkHsb"
   },
   "source": [
    "Filtering out these rows as we can see it is noise in the data."
   ]
  },
  {
   "cell_type": "code",
   "execution_count": null,
   "metadata": {
    "id": "DOgIqmzjixe0",
    "outputId": "1012b762-a803-441e-96cc-492e1d75c339"
   },
   "outputs": [
    {
     "name": "stdout",
     "output_type": "stream",
     "text": [
      "+------+--------------------+--------+----------------+-----+----------+--------------+\n",
      "|BillNo|            Itemname|Quantity|            Date|Price|CustomerID|       Country|\n",
      "+------+--------------------+--------+----------------+-----+----------+--------------+\n",
      "|536365|WHITE HANGING HEA...|       6|01.12.2010 08:26| 2,55|     17850|United Kingdom|\n",
      "|536365| WHITE METAL LANTERN|       6|01.12.2010 08:26| 3,39|     17850|United Kingdom|\n",
      "|536365|CREAM CUPID HEART...|       8|01.12.2010 08:26| 2,75|     17850|United Kingdom|\n",
      "|536365|KNITTED UNION FLA...|       6|01.12.2010 08:26| 3,39|     17850|United Kingdom|\n",
      "|536365|RED WOOLLY HOTTIE...|       6|01.12.2010 08:26| 3,39|     17850|United Kingdom|\n",
      "|536365|SET 7 BABUSHKA NE...|       2|01.12.2010 08:26| 7,65|     17850|United Kingdom|\n",
      "|536365|GLASS STAR FROSTE...|       6|01.12.2010 08:26| 4,25|     17850|United Kingdom|\n",
      "|536366|HAND WARMER UNION...|       6|01.12.2010 08:28| 1,85|     17850|United Kingdom|\n",
      "|536366|HAND WARMER RED P...|       6|01.12.2010 08:28| 1,85|     17850|United Kingdom|\n",
      "|536367|ASSORTED COLOUR B...|      32|01.12.2010 08:34| 1,69|     13047|United Kingdom|\n",
      "|536367|POPPY'S PLAYHOUSE...|       6|01.12.2010 08:34|  2,1|     13047|United Kingdom|\n",
      "|536367|POPPY'S PLAYHOUSE...|       6|01.12.2010 08:34|  2,1|     13047|United Kingdom|\n",
      "|536367|FELTCRAFT PRINCES...|       8|01.12.2010 08:34| 3,75|     13047|United Kingdom|\n",
      "|536367|IVORY KNITTED MUG...|       6|01.12.2010 08:34| 1,65|     13047|United Kingdom|\n",
      "|536367|BOX OF 6 ASSORTED...|       6|01.12.2010 08:34| 4,25|     13047|United Kingdom|\n",
      "|536367|BOX OF VINTAGE JI...|       3|01.12.2010 08:34| 4,95|     13047|United Kingdom|\n",
      "|536367|BOX OF VINTAGE AL...|       2|01.12.2010 08:34| 9,95|     13047|United Kingdom|\n",
      "|536367|HOME BUILDING BLO...|       3|01.12.2010 08:34| 5,95|     13047|United Kingdom|\n",
      "|536367|LOVE BUILDING BLO...|       3|01.12.2010 08:34| 5,95|     13047|United Kingdom|\n",
      "|536367|RECIPE BOX WITH M...|       4|01.12.2010 08:34| 7,95|     13047|United Kingdom|\n",
      "+------+--------------------+--------+----------------+-----+----------+--------------+\n",
      "only showing top 20 rows\n",
      "\n"
     ]
    }
   ],
   "source": [
    "df = df.filter(df.Quantity>0)\n",
    "df.show()"
   ]
  },
  {
   "cell_type": "markdown",
   "metadata": {
    "id": "agQhXMDqluX2"
   },
   "source": [
    "Checking Null Values in Itemnames"
   ]
  },
  {
   "cell_type": "code",
   "execution_count": null,
   "metadata": {
    "id": "6A6u2eK-izAJ",
    "outputId": "5d723446-f982-4dd4-9074-753e4cef59da"
   },
   "outputs": [
    {
     "name": "stdout",
     "output_type": "stream",
     "text": [
      "+--------+\n",
      "|Itemname|\n",
      "+--------+\n",
      "|     592|\n",
      "+--------+\n",
      "\n"
     ]
    }
   ],
   "source": [
    "missing_counts = df.select([count(when(isnull('Itemname') | isnan('Itemname'), 'Itemname')).alias('Itemname')])\n",
    "missing_counts.show()"
   ]
  },
  {
   "cell_type": "markdown",
   "metadata": {
    "id": "mrj3danxlyNc"
   },
   "source": [
    "Removing rows where Itemnames is missing"
   ]
  },
  {
   "cell_type": "code",
   "execution_count": null,
   "metadata": {
    "id": "tKBzdOl8k6Iw"
   },
   "outputs": [],
   "source": [
    "df = df.dropna()"
   ]
  },
  {
   "cell_type": "code",
   "execution_count": null,
   "metadata": {
    "id": "kQbKOdSkl_fl",
    "outputId": "ca751359-0296-42b4-ae0c-9d17323f089f"
   },
   "outputs": [
    {
     "name": "stdout",
     "output_type": "stream",
     "text": [
      "+------+--------+--------+----+-----+----------+-------+\n",
      "|BillNo|Itemname|Quantity|Date|Price|CustomerID|Country|\n",
      "+------+--------+--------+----+-----+----------+-------+\n",
      "|     0|       0|       0|   0|    0|         0|      0|\n",
      "+------+--------+--------+----+-----+----------+-------+\n",
      "\n"
     ]
    }
   ],
   "source": [
    "# NUll values\n",
    "df.select([count(when(isnull(c) | isnan(c), c)).alias(c) for c in df.columns]).show()"
   ]
  },
  {
   "cell_type": "code",
   "execution_count": null,
   "metadata": {
    "id": "Bb6kqlQUmLTO",
    "outputId": "3bcec9e3-9a70-4d76-aaed-e2a854adbbb5"
   },
   "outputs": [
    {
     "name": "stdout",
     "output_type": "stream",
     "text": [
      "+------+--------------------+--------+----------+-----+----------+--------------+-----------+-----+\n",
      "|BillNo|            Itemname|Quantity|      Date|Price|CustomerID|       Country|Total_Price| Hour|\n",
      "+------+--------------------+--------+----------+-----+----------+--------------+-----------+-----+\n",
      "|536365|WHITE HANGING HEA...|       6|2010-12-01| 2.55|     17850|United Kingdom|       15.3|08:26|\n",
      "|536365| WHITE METAL LANTERN|       6|2010-12-01| 3.39|     17850|United Kingdom|      20.34|08:26|\n",
      "|536365|CREAM CUPID HEART...|       8|2010-12-01| 2.75|     17850|United Kingdom|       22.0|08:26|\n",
      "|536365|KNITTED UNION FLA...|       6|2010-12-01| 3.39|     17850|United Kingdom|      20.34|08:26|\n",
      "|536365|RED WOOLLY HOTTIE...|       6|2010-12-01| 3.39|     17850|United Kingdom|      20.34|08:26|\n",
      "|536365|SET 7 BABUSHKA NE...|       2|2010-12-01| 7.65|     17850|United Kingdom|       15.3|08:26|\n",
      "|536365|GLASS STAR FROSTE...|       6|2010-12-01| 4.25|     17850|United Kingdom|       25.5|08:26|\n",
      "|536366|HAND WARMER UNION...|       6|2010-12-01| 1.85|     17850|United Kingdom|       11.1|08:28|\n",
      "|536366|HAND WARMER RED P...|       6|2010-12-01| 1.85|     17850|United Kingdom|       11.1|08:28|\n",
      "|536367|ASSORTED COLOUR B...|      32|2010-12-01| 1.69|     13047|United Kingdom|      54.08|08:34|\n",
      "|536367|POPPY'S PLAYHOUSE...|       6|2010-12-01|  2.1|     13047|United Kingdom|       12.6|08:34|\n",
      "|536367|POPPY'S PLAYHOUSE...|       6|2010-12-01|  2.1|     13047|United Kingdom|       12.6|08:34|\n",
      "|536367|FELTCRAFT PRINCES...|       8|2010-12-01| 3.75|     13047|United Kingdom|       30.0|08:34|\n",
      "|536367|IVORY KNITTED MUG...|       6|2010-12-01| 1.65|     13047|United Kingdom|        9.9|08:34|\n",
      "|536367|BOX OF 6 ASSORTED...|       6|2010-12-01| 4.25|     13047|United Kingdom|       25.5|08:34|\n",
      "|536367|BOX OF VINTAGE JI...|       3|2010-12-01| 4.95|     13047|United Kingdom|      14.85|08:34|\n",
      "|536367|BOX OF VINTAGE AL...|       2|2010-12-01| 9.95|     13047|United Kingdom|       19.9|08:34|\n",
      "|536367|HOME BUILDING BLO...|       3|2010-12-01| 5.95|     13047|United Kingdom|      17.85|08:34|\n",
      "|536367|LOVE BUILDING BLO...|       3|2010-12-01| 5.95|     13047|United Kingdom|      17.85|08:34|\n",
      "|536367|RECIPE BOX WITH M...|       4|2010-12-01| 7.95|     13047|United Kingdom|       31.8|08:34|\n",
      "+------+--------------------+--------+----------+-----+----------+--------------+-----------+-----+\n",
      "only showing top 20 rows\n",
      "\n"
     ]
    }
   ],
   "source": [
    "df = df.withColumn('Price', regexp_replace('Price', ',', '.'))\n",
    "df = df.withColumn('Total_Price', round(df.Price * df.Quantity, 2))\n",
    "df = df.withColumn('Hour', split('Date', ' ')[1])\n",
    "df = df.withColumn('Date', split('Date', ' ')[0])\n",
    "df = df.withColumn( 'Date', concat_ws('-', split('Date', '\\.')[2], split('Date', '\\.')[1], split('Date', '\\.')[0]))\n",
    "df = df.withColumn('Date', to_date('Date'))\n",
    "df.show()"
   ]
  },
  {
   "cell_type": "markdown",
   "metadata": {
    "id": "fobT4sVNtY1X"
   },
   "source": [
    "Apriori Method"
   ]
  },
  {
   "cell_type": "code",
   "execution_count": null,
   "metadata": {
    "id": "8moNp5jJoucu"
   },
   "outputs": [],
   "source": [
    "from pyspark.ml.feature import OneHotEncoder\n",
    "from pyspark.ml.feature import StringIndexer, CountVectorizer\n",
    "from pyspark.sql.types import IntegerType"
   ]
  },
  {
   "cell_type": "code",
   "execution_count": null,
   "metadata": {
    "id": "40rUhQT_tcd4",
    "outputId": "5b7c3697-5b19-4a6a-b3ad-0ed5a6b9fc0f"
   },
   "outputs": [
    {
     "name": "stdout",
     "output_type": "stream",
     "text": [
      "+------+--------------------+--------+----------+-----+----------+--------------+-----------+-----+----------+\n",
      "|BillNo|            Itemname|Quantity|      Date|Price|CustomerID|       Country|Total_Price| Hour|Item_Index|\n",
      "+------+--------------------+--------+----------+-----+----------+--------------+-----------+-----+----------+\n",
      "|536365|WHITE HANGING HEA...|       6|2010-12-01| 2.55|     17850|United Kingdom|       15.3|08:26|       0.0|\n",
      "|536365| WHITE METAL LANTERN|       6|2010-12-01| 3.39|     17850|United Kingdom|      20.34|08:26|     437.0|\n",
      "|536365|CREAM CUPID HEART...|       8|2010-12-01| 2.75|     17850|United Kingdom|       22.0|08:26|     448.0|\n",
      "|536365|KNITTED UNION FLA...|       6|2010-12-01| 3.39|     17850|United Kingdom|      20.34|08:26|     267.0|\n",
      "|536365|RED WOOLLY HOTTIE...|       6|2010-12-01| 3.39|     17850|United Kingdom|      20.34|08:26|     272.0|\n",
      "|536365|SET 7 BABUSHKA NE...|       2|2010-12-01| 7.65|     17850|United Kingdom|       15.3|08:26|     324.0|\n",
      "|536365|GLASS STAR FROSTE...|       6|2010-12-01| 4.25|     17850|United Kingdom|       25.5|08:26|    1015.0|\n",
      "|536366|HAND WARMER UNION...|       6|2010-12-01| 1.85|     17850|United Kingdom|       11.1|08:28|     134.0|\n",
      "|536366|HAND WARMER RED P...|       6|2010-12-01| 1.85|     17850|United Kingdom|       11.1|08:28|    2587.0|\n",
      "|536367|ASSORTED COLOUR B...|      32|2010-12-01| 1.69|     13047|United Kingdom|      54.08|08:34|       3.0|\n",
      "|536367|POPPY'S PLAYHOUSE...|       6|2010-12-01|  2.1|     13047|United Kingdom|       12.6|08:34|     281.0|\n",
      "|536367|POPPY'S PLAYHOUSE...|       6|2010-12-01|  2.1|     13047|United Kingdom|       12.6|08:34|     233.0|\n",
      "|536367|FELTCRAFT PRINCES...|       8|2010-12-01| 3.75|     13047|United Kingdom|       30.0|08:34|     172.0|\n",
      "|536367|IVORY KNITTED MUG...|       6|2010-12-01| 1.65|     13047|United Kingdom|        9.9|08:34|    1797.0|\n",
      "|536367|BOX OF 6 ASSORTED...|       6|2010-12-01| 4.25|     13047|United Kingdom|       25.5|08:34|    1527.0|\n",
      "|536367|BOX OF VINTAGE JI...|       3|2010-12-01| 4.95|     13047|United Kingdom|      14.85|08:34|     550.0|\n",
      "|536367|BOX OF VINTAGE AL...|       2|2010-12-01| 9.95|     13047|United Kingdom|       19.9|08:34|     504.0|\n",
      "|536367|HOME BUILDING BLO...|       3|2010-12-01| 5.95|     13047|United Kingdom|      17.85|08:34|      49.0|\n",
      "|536367|LOVE BUILDING BLO...|       3|2010-12-01| 5.95|     13047|United Kingdom|      17.85|08:34|      86.0|\n",
      "|536367|RECIPE BOX WITH M...|       4|2010-12-01| 7.95|     13047|United Kingdom|       31.8|08:34|    3446.0|\n",
      "+------+--------------------+--------+----------+-----+----------+--------------+-----------+-----+----------+\n",
      "only showing top 20 rows\n",
      "\n"
     ]
    }
   ],
   "source": [
    "indexer = StringIndexer(inputCol = 'Itemname', outputCol = 'Item_Index')\n",
    "data_indexed = indexer.fit(df).transform(df)\n",
    "data_indexed.show()"
   ]
  },
  {
   "cell_type": "code",
   "execution_count": null,
   "metadata": {
    "id": "Yx4sOZr2uz28",
    "outputId": "8f4ad487-f6f9-4dc3-9ec4-3cfd7313d978"
   },
   "outputs": [
    {
     "name": "stdout",
     "output_type": "stream",
     "text": [
      "+------+--------------+--------------------+\n",
      "|BillNo|       Country|              Basket|\n",
      "+------+--------------+--------------------+\n",
      "|536394|United Kingdom|[FANCY FONT BIRTH...|\n",
      "|536402|United Kingdom|[PAPER CHAIN KIT ...|\n",
      "|536534|United Kingdom|[HAND WARMER SCOT...|\n",
      "|536535|United Kingdom|[DOORMAT FANCY FO...|\n",
      "|536575|United Kingdom|[LADS ONLY TISSUE...|\n",
      "|536611|United Kingdom|[RED  HARMONICA I...|\n",
      "|536628|United Kingdom|[CREAM CUPID HEAR...|\n",
      "|536629|United Kingdom|[HAND WARMER UNIO...|\n",
      "|536741|United Kingdom|[ASSORTED COLOUR ...|\n",
      "|536771|United Kingdom|[JAM MAKING SET W...|\n",
      "|536786|United Kingdom|[BAKING SET SPACE...|\n",
      "|536806|United Kingdom|[CHRISTMAS TREE S...|\n",
      "|536832|United Kingdom|[KEY CABINET MA C...|\n",
      "|536838|United Kingdom|[FENG SHUI PILLAR...|\n",
      "|536841|United Kingdom|[FIRST AID TIN, P...|\n",
      "|536944|         Spain|[LUNCH BAG  BLACK...|\n",
      "|536945|United Kingdom|[PLASTERS IN TIN ...|\n",
      "|536972|United Kingdom|[RED KITCHEN SCAL...|\n",
      "|536988|United Kingdom|[WHITE SKULL HOT ...|\n",
      "|536992|United Kingdom|[CHARLIE + LOLA R...|\n",
      "+------+--------------+--------------------+\n",
      "only showing top 20 rows\n",
      "\n"
     ]
    }
   ],
   "source": [
    "df_group = data_indexed[['BillNo','Country','Itemname']].distinct()\n",
    "df_group = df_group.groupBy('BillNo', 'Country').agg(collect_list('Itemname').alias('Basket'))\n",
    "df_group.show()"
   ]
  },
  {
   "cell_type": "code",
   "execution_count": null,
   "metadata": {
    "id": "nJr_3gkjBEfs"
   },
   "outputs": [],
   "source": [
    "countries = []\n",
    "for country in df_group[['Country']].distinct().collect():\n",
    "    countries.append(country['Country'])"
   ]
  },
  {
   "cell_type": "code",
   "execution_count": null,
   "metadata": {
    "id": "wR1RLfKb-u2I"
   },
   "outputs": [],
   "source": [
    "from pyspark.ml.fpm import FPGrowth"
   ]
  },
  {
   "cell_type": "code",
   "execution_count": null,
   "metadata": {
    "id": "HcMDrIYN1C8r"
   },
   "outputs": [],
   "source": [
    "minSupport=0.1\n",
    "minConfidence=0.8\n",
    "results = {}"
   ]
  },
  {
   "cell_type": "code",
   "execution_count": null,
   "metadata": {
    "id": "-drRWqn6-gAm",
    "outputId": "bc93ea57-6d55-4ed9-bbc5-32d8e31394df",
    "scrolled": true
   },
   "outputs": [
    {
     "name": "stdout",
     "output_type": "stream",
     "text": [
      "Sweden\n"
     ]
    },
    {
     "name": "stderr",
     "output_type": "stream",
     "text": [
      "C:\\Users\\dhruv\\anaconda3\\lib\\site-packages\\pyspark\\sql\\context.py:125: FutureWarning: Deprecated in 3.0.0. Use SparkSession.builder.getOrCreate() instead.\n",
      "  warnings.warn(\n"
     ]
    },
    {
     "name": "stdout",
     "output_type": "stream",
     "text": [
      "Germany\n",
      "France\n",
      "Belgium\n",
      "Italy\n",
      "Lithuania\n",
      "Norway\n",
      "Spain\n",
      "Iceland\n",
      "Switzerland\n",
      "Japan\n",
      "Poland\n",
      "Portugal\n",
      "Australia\n",
      "Austria\n",
      "United Kingdom\n",
      "Netherlands\n",
      "Singapore\n",
      "Greece\n",
      "Israel\n",
      "Saudi Arabia\n",
      "United Arab Emirates\n",
      "Lebanon\n",
      "Unspecified\n",
      "USA\n",
      "Brazil\n",
      "Malta\n",
      "Bahrain\n",
      "RSA\n"
     ]
    }
   ],
   "source": [
    "for country in countries:\n",
    "    print(country)\n",
    "    fpGrowth = FPGrowth(itemsCol=\"Basket\", minSupport=minSupport, minConfidence=minConfidence)\n",
    "    model = fpGrowth.fit(df_group.filter(df_group['Country']==country))\n",
    "#     model.associationRules.show()\n",
    "    results[country] = model.associationRules"
   ]
  },
  {
   "cell_type": "code",
   "execution_count": null,
   "metadata": {
    "id": "p6m8mbR9-3BS"
   },
   "outputs": [],
   "source": [
    "from pyspark.sql.functions import lit\n",
    "country = countries[0]\n",
    "apriori = results[country].withColumn('country', lit(country))\n",
    "\n",
    "for country in countries[1:5]:\n",
    "    df_temp = results[country].withColumn('country', lit(country))\n",
    "    apriori =  apriori.union(df_temp)"
   ]
  },
  {
   "cell_type": "code",
   "execution_count": null,
   "metadata": {
    "id": "6eEAfIiJuZqh",
    "outputId": "1d68827e-f9fc-49da-a45b-0f86ce65346b"
   },
   "outputs": [
    {
     "name": "stderr",
     "output_type": "stream",
     "text": [
      "C:\\Users\\dhruv\\anaconda3\\lib\\site-packages\\pyspark\\sql\\context.py:77: FutureWarning: Deprecated in 3.0.0. Use SparkSession.builder.getOrCreate() instead.\n",
      "  warnings.warn(\n"
     ]
    },
    {
     "name": "stdout",
     "output_type": "stream",
     "text": [
      "+-----------------------------------------------------------------------+-------------------------------------+---------+---------+--------+\n",
      "|antecedent                                                             |consequent                           |n_country|mean_lift|min_lift|\n",
      "+-----------------------------------------------------------------------+-------------------------------------+---------+---------+--------+\n",
      "|[REGENCY CAKESTAND 3 TIER]                                             |[POSTAGE]                            |4        |1.24     |1.021   |\n",
      "|[RABBIT NIGHT LIGHT]                                                   |[POSTAGE]                            |3        |1.271    |1.021   |\n",
      "|[RED TOADSTOOL LED NIGHT LIGHT]                                        |[POSTAGE]                            |3        |1.269    |1.021   |\n",
      "|[ROUND SNACK BOXES SET OF4 WOODLAND]                                   |[POSTAGE]                            |3        |1.119    |1.021   |\n",
      "|[PLASTERS IN TIN SPACEBOY]                                             |[POSTAGE]                            |3        |1.09     |1.021   |\n",
      "|[PLASTERS IN TIN WOODLAND ANIMALS]                                     |[POSTAGE]                            |3        |1.038    |1.021   |\n",
      "|[ROUND SNACK BOXES SET OF 4 FRUITS, POSTAGE]                           |[ROUND SNACK BOXES SET OF4 WOODLAND] |2        |2.791    |2.211   |\n",
      "|[ROUND SNACK BOXES SET OF 4 FRUITS]                                    |[ROUND SNACK BOXES SET OF4 WOODLAND] |2        |2.755    |2.11    |\n",
      "|[PLASTERS IN TIN CIRCUS PARADE]                                        |[POSTAGE]                            |2        |1.1      |1.061   |\n",
      "|[ROUND SNACK BOXES SET OF 4 FRUITS, ROUND SNACK BOXES SET OF4 WOODLAND]|[POSTAGE]                            |2        |1.091    |1.021   |\n",
      "|[LUNCH BAG WOODLAND]                                                   |[POSTAGE]                            |2        |1.074    |1.021   |\n",
      "|[ROUND SNACK BOXES SET OF 4 FRUITS]                                    |[POSTAGE]                            |2        |1.073    |0.974   |\n",
      "|[WOODLAND CHARLOTTE BAG]                                               |[POSTAGE]                            |2        |1.069    |1.021   |\n",
      "|[LUNCH BOX WITH CUTLERY RETROSPOT]                                     |[POSTAGE]                            |2        |1.031    |1.021   |\n",
      "|[LUNCH BAG RED RETROSPOT]                                              |[POSTAGE]                            |2        |1.029    |1.021   |\n",
      "|[LUNCH BAG CARS BLUE]                                                  |[LUNCH BAG WOODLAND]                 |1        |9.5      |9.5     |\n",
      "|[LUNCH BAG WOODLAND]                                                   |[LUNCH BAG CARS BLUE]                |1        |9.5      |9.5     |\n",
      "|[SET OF 20 KIDS COOKIE CUTTERS, RETROSPOT TEA SET CERAMIC 11 PC]       |[GINGERBREAD MAN COOKIE CUTTER]      |1        |9.5      |9.5     |\n",
      "|[PACK OF 72 RETROSPOT CAKE CASES]                                      |[PACK OF 60 SPACEBOY CAKE CASES]     |1        |9.0      |9.0     |\n",
      "|[PACK OF 60 SPACEBOY CAKE CASES]                                       |[PACK OF 72 RETROSPOT CAKE CASES]    |1        |9.0      |9.0     |\n",
      "|[DOORMAT UNION FLAG, DOORMAT WELCOME TO OUR HOME]                      |[DOORMAT AIRMAIL]                    |1        |7.6      |7.6     |\n",
      "|[SET OF TEA COFFEE SUGAR TINS PANTRY]                                  |[VINTAGE CREAM DOG FOOD CONTAINER]   |1        |7.6      |7.6     |\n",
      "|[TOY TIDY SPACEBOY, RECYCLING BAG RETROSPOT]                           |[TOY TIDY PINK POLKADOT]             |1        |7.6      |7.6     |\n",
      "|[TOY TIDY SPACEBOY, CHILDRENS APRON APPLES DESIGN]                     |[TOY TIDY PINK POLKADOT]             |1        |7.6      |7.6     |\n",
      "|[SET OF 20 KIDS COOKIE CUTTERS]                                        |[GINGERBREAD MAN COOKIE CUTTER]      |1        |7.6      |7.6     |\n",
      "|[TOY TIDY PINK POLKADOT, RECYCLING BAG RETROSPOT]                      |[TOY TIDY SPACEBOY]                  |1        |7.6      |7.6     |\n",
      "|[VINTAGE CREAM DOG FOOD CONTAINER]                                     |[SET OF TEA COFFEE SUGAR TINS PANTRY]|1        |7.6      |7.6     |\n",
      "|[TOY TIDY PINK POLKADOT, CHILDRENS APRON APPLES DESIGN]                |[TOY TIDY SPACEBOY]                  |1        |7.6      |7.6     |\n",
      "|[GINGERBREAD MAN COOKIE CUTTER, RETROSPOT TEA SET CERAMIC 11 PC]       |[SET OF 20 KIDS COOKIE CUTTERS]      |1        |7.6      |7.6     |\n",
      "|[TOY TIDY PINK POLKADOT]                                               |[TOY TIDY SPACEBOY]                  |1        |7.6      |7.6     |\n",
      "+-----------------------------------------------------------------------+-------------------------------------+---------+---------+--------+\n",
      "only showing top 30 rows\n",
      "\n"
     ]
    }
   ],
   "source": [
    "sqlCtx = SQLContext(spark)\n",
    "apriori.createOrReplaceTempView(\"apriori\")\n",
    "rules = sqlCtx.sql(\"\"\"SELECT antecedent, consequent, COUNT(DISTINCT country) as n_country , ROUND(AVG(lift), 3) as mean_lift, ROUND(MIN(lift), 3) as min_lift FROM apriori GROUP BY antecedent, consequent\"\"\")\n",
    "rules.sort(col('n_country').desc(), col('mean_lift').desc()).show(30, truncate=False)"
   ]
  },
  {
   "cell_type": "code",
   "execution_count": null,
   "metadata": {
    "id": "fwPoSddjuZqi",
    "outputId": "3469f994-eabd-4511-beb0-3daba19b0fae"
   },
   "outputs": [
    {
     "name": "stdout",
     "output_type": "stream",
     "text": [
      "fitted\n",
      "+--------------------+--------------------+-------------------+------------------+--------------------+\n",
      "|          antecedent|          consequent|         confidence|              lift|             support|\n",
      "+--------------------+--------------------+-------------------+------------------+--------------------+\n",
      "|[PAPER CHAIN KIT ...|[PAPER CHAIN KIT ...|0.46105919003115264|12.171828587988118|0.024445300886417443|\n",
      "|[LUNCH BAG CARS B...|[LUNCH BAG  BLACK...|  0.439873417721519| 7.689529245501395|0.022958762319000164|\n",
      "|[LUNCH BAG CARS B...|[LUNCH BAG SPACEB...|0.40717299578059074| 7.561843683397617| 0.02125199581566922|\n",
      "|[LUNCH BAG CARS B...|[LUNCH BAG RED RE...|0.47362869198312235| 6.795037861366076| 0.02472058580630953|\n",
      "|[LUNCH BAG CARS B...|[LUNCH BAG PINK P...| 0.4440928270042194| 8.825008771200917|0.023178990254913837|\n",
      "|[LUNCH BAG CARS B...|[LUNCH BAG SUKI D...|0.40717299578059074| 8.290900361393351| 0.02125199581566922|\n",
      "|[JUMBO STORAGE BA...|[JUMBO BAG RED RE...| 0.5611979166666666|6.4799985762343715|0.023729560094698014|\n",
      "|[RED HANGING HEAR...|[WHITE HANGING HE...| 0.6661608497723824|6.3050961513370405|0.024170015966525352|\n",
      "|[ALARM CLOCK BAKE...|[ALARM CLOCK BAKE...| 0.6414141414141414|13.625736901175499|0.020976710895777424|\n",
      "|[ALARM CLOCK BAKE...|[ALARM CLOCK BAKE...|0.44561403508772085|13.625736901175157|0.020976710895777424|\n",
      "|[ALARM CLOCK BAKE...|[ALARM CLOCK BAKE...| 0.6128654970760344|14.252850222012416|0.028849859604690924|\n",
      "|[HEART OF WICKER ...|[HEART OF WICKER ...| 0.4241781548250287| 9.703208848976065|0.022022793591367325|\n",
      "|[JUMBO BAG STRAWB...|[JUMBO BAG RED RE...| 0.6310077519379845| 7.286073616306175| 0.02240819247921599|\n",
      "|[PAPER CHAIN KIT ...|[PAPER CHAIN KIT ...| 0.6453488372093024| 12.17182858798812|0.024445300886417443|\n",
      "|[JUMBO SHOPPER VI...|[JUMBO BAG RED RE...| 0.5012787723785166| 5.788128634908453|0.021582337719539723|\n",
      "|[GREEN REGENCY TE...|[ROSES REGENCY TE...|  0.774885145482389| 19.17471239427334|0.027858833893079336|\n",
      "|[GREEN REGENCY TE...|[PINK REGENCY TEA...| 0.6615620214395099|22.844013299250605| 0.02378461707867643|\n",
      "|[LUNCH BAG RED RE...|[LUNCH BAG PINK P...| 0.4028436018957346| 8.005304530888651| 0.02807906182899301|\n",
      "|[LUNCH BAG RED RE...|[LUNCH BAG  BLACK...|0.40126382306477093|7.0145859656645175|0.027968947861036174|\n",
      "|[SPACEBOY LUNCH BOX]|[DOLLY GIRL LUNCH...| 0.5973837209302325|18.174674243309568| 0.02262842041512966|\n",
      "+--------------------+--------------------+-------------------+------------------+--------------------+\n",
      "only showing top 20 rows\n",
      "\n"
     ]
    }
   ],
   "source": [
    "from pyspark.ml.fpm import FPGrowth\n",
    "# from time import time\n",
    "minSupport=0.02\n",
    "minConfidence=0.4\n",
    "\n",
    "fpGrowth = FPGrowth(itemsCol=\"Basket\", minSupport=minSupport, minConfidence=minConfidence)\n",
    "model = fpGrowth.fit(df_group)\n",
    "print('fitted')\n",
    "results = model.associationRules\n",
    "results.show()"
   ]
  },
  {
   "cell_type": "code",
   "execution_count": null,
   "metadata": {
    "id": "8iu7v0VsuZqj",
    "outputId": "57b91ff0-2fdb-4b2f-bb7c-0fad5664afe5"
   },
   "outputs": [
    {
     "name": "stdout",
     "output_type": "stream",
     "text": [
      "+-----------------------------------+------------------------------------+------------------+------------------+--------------------+\n",
      "|antecedent                         |consequent                          |confidence        |lift              |support             |\n",
      "+-----------------------------------+------------------------------------+------------------+------------------+--------------------+\n",
      "|[PINK REGENCY TEACUP AND SAUCER]   |[GREEN REGENCY TEACUP AND SAUCER]   |0.8210000000000052|22.84400000000026 |0.024000000000000205|\n",
      "|[GREEN REGENCY TEACUP AND SAUCER]  |[PINK REGENCY TEACUP AND SAUCER]    |0.662             |22.844            |0.024               |\n",
      "|[ROSES REGENCY TEACUP AND SAUCER]  |[GREEN REGENCY TEACUP AND SAUCER]   |0.689             |19.175            |0.028               |\n",
      "|[GREEN REGENCY TEACUP AND SAUCER]  |[ROSES REGENCY TEACUP AND SAUCER]   |0.775             |19.175            |0.028               |\n",
      "|[PINK REGENCY TEACUP AND SAUCER]   |[ROSES REGENCY TEACUP AND SAUCER]   |0.7740000000000065|19.147000000000368|0.022000000000000266|\n",
      "|[ROSES REGENCY TEACUP AND SAUCER]  |[PINK REGENCY TEACUP AND SAUCER]    |0.554             |19.147            |0.022               |\n",
      "|[DOLLY GIRL LUNCH BOX]             |[SPACEBOY LUNCH BOX]                |0.688             |18.175            |0.023               |\n",
      "|[SPACEBOY LUNCH BOX]               |[DOLLY GIRL LUNCH BOX]              |0.597             |18.175            |0.023               |\n",
      "|[GARDENERS KNEELING PAD CUP OF TEA]|[GARDENERS KNEELING PAD KEEP CALM]  |0.731             |17.716            |0.025               |\n",
      "|[GARDENERS KNEELING PAD KEEP CALM] |[GARDENERS KNEELING PAD CUP OF TEA] |0.615             |17.716            |0.025               |\n",
      "|[ALARM CLOCK BAKELIKE GREEN]       |[ALARM CLOCK BAKELIKE RED]          |0.671             |14.253            |0.029               |\n",
      "|[ALARM CLOCK BAKELIKE RED]         |[ALARM CLOCK BAKELIKE GREEN]        |0.613             |14.253            |0.029               |\n",
      "|[ALARM CLOCK BAKELIKE RED]         |[ALARM CLOCK BAKELIKE PINK]         |0.446             |13.626            |0.021               |\n",
      "|[ALARM CLOCK BAKELIKE PINK]        |[ALARM CLOCK BAKELIKE RED]          |0.641             |13.626            |0.021               |\n",
      "|[PAPER CHAIN KIT 50'S CHRISTMAS]   |[PAPER CHAIN KIT VINTAGE CHRISTMAS] |0.461             |12.172            |0.024               |\n",
      "|[PAPER CHAIN KIT VINTAGE CHRISTMAS]|[PAPER CHAIN KIT 50'S CHRISTMAS]    |0.645             |12.172            |0.024               |\n",
      "|[WOODEN FRAME ANTIQUE WHITE]       |[WOODEN PICTURE FRAME WHITE FINISH] |0.583             |12.161            |0.026               |\n",
      "|[WOODEN PICTURE FRAME WHITE FINISH]|[WOODEN FRAME ANTIQUE WHITE]        |0.536             |12.161            |0.026               |\n",
      "|[HEART OF WICKER LARGE]            |[HEART OF WICKER SMALL]             |0.504             |9.703             |0.022               |\n",
      "|[HEART OF WICKER SMALL]            |[HEART OF WICKER LARGE]             |0.424             |9.703             |0.022               |\n",
      "|[LUNCH BAG SPACEBOY DESIGN]        |[LUNCH BAG WOODLAND]                |0.411             |9.263             |0.022               |\n",
      "|[LUNCH BAG WOODLAND]               |[LUNCH BAG SPACEBOY DESIGN]         |0.499             |9.263             |0.022               |\n",
      "|[LUNCH BAG CARS BLUE]              |[LUNCH BAG PINK POLKADOT]           |0.444             |8.825             |0.023               |\n",
      "|[LUNCH BAG PINK POLKADOT]          |[LUNCH BAG CARS BLUE]               |0.461             |8.825             |0.023               |\n",
      "|[LUNCH BAG PINK POLKADOT]          |[LUNCH BAG  BLACK SKULL.]           |0.498             |8.702             |0.025               |\n",
      "|[LUNCH BAG  BLACK SKULL.]          |[LUNCH BAG PINK POLKADOT]           |0.438             |8.702             |0.025               |\n",
      "|[LUNCH BAG SUKI DESIGN]            |[LUNCH BAG CARS BLUE]               |0.433             |8.291             |0.021               |\n",
      "|[LUNCH BAG CARS BLUE]              |[LUNCH BAG SUKI DESIGN]             |0.407             |8.291             |0.021               |\n",
      "|[LUNCH BAG PINK POLKADOT]          |[LUNCH BAG RED RETROSPOT]           |0.558             |8.005             |0.028               |\n",
      "|[LUNCH BAG RED RETROSPOT]          |[LUNCH BAG PINK POLKADOT]           |0.403             |8.005             |0.028               |\n",
      "|[LUNCH BAG SUKI DESIGN]            |[LUNCH BAG  BLACK SKULL.]           |0.455             |7.957             |0.022               |\n",
      "|[LUNCH BAG SUKI DESIGN]            |[LUNCH BAG SPACEBOY DESIGN]         |0.422             |7.828             |0.021               |\n",
      "|[LUNCH BAG  BLACK SKULL.]          |[LUNCH BAG CARS BLUE]               |0.401             |7.69              |0.023               |\n",
      "|[LUNCH BAG CARS BLUE]              |[LUNCH BAG  BLACK SKULL.]           |0.44              |7.69              |0.023               |\n",
      "|[LUNCH BAG WOODLAND]               |[LUNCH BAG RED RETROSPOT]           |0.53              |7.601             |0.024               |\n",
      "|[LUNCH BAG CARS BLUE]              |[LUNCH BAG SPACEBOY DESIGN]         |0.407             |7.562             |0.021               |\n",
      "|[LUNCH BAG SPACEBOY DESIGN]        |[LUNCH BAG  BLACK SKULL.]           |0.422             |7.382             |0.023               |\n",
      "|[JUMBO BAG STRAWBERRY]             |[JUMBO BAG RED RETROSPOT]           |0.631             |7.286             |0.022               |\n",
      "|[JUMBO BAG PINK POLKADOT]          |[JUMBO BAG RED RETROSPOT]           |0.625             |7.217             |0.03                |\n",
      "|[LUNCH BAG SUKI DESIGN]            |[LUNCH BAG RED RETROSPOT]           |0.502             |7.206             |0.025               |\n",
      "|[LUNCH BAG  BLACK SKULL.]          |[LUNCH BAG RED RETROSPOT]           |0.489             |7.015             |0.028               |\n",
      "|[LUNCH BAG RED RETROSPOT]          |[LUNCH BAG  BLACK SKULL.]           |0.401             |7.015             |0.028               |\n",
      "|[LUNCH BAG CARS BLUE]              |[LUNCH BAG RED RETROSPOT]           |0.474             |6.795             |0.025               |\n",
      "|[LUNCH BAG SPACEBOY DESIGN]        |[LUNCH BAG RED RETROSPOT]           |0.47              |6.748             |0.025               |\n",
      "|[JUMBO STORAGE BAG SUKI]           |[JUMBO BAG RED RETROSPOT]           |0.561             |6.48              |0.024               |\n",
      "|[LUNCH BAG APPLE DESIGN]           |[LUNCH BAG RED RETROSPOT]           |0.451             |6.466             |0.021               |\n",
      "|[RED HANGING HEART T-LIGHT HOLDER] |[WHITE HANGING HEART T-LIGHT HOLDER]|0.666             |6.305             |0.024               |\n",
      "|[ROSES REGENCY TEACUP AND SAUCER]  |[REGENCY CAKESTAND 3 TIER]          |0.527             |5.886             |0.021               |\n",
      "|[JUMBO SHOPPER VINTAGE RED PAISLEY]|[JUMBO BAG RED RETROSPOT]           |0.501             |5.788             |0.022               |\n",
      "+-----------------------------------+------------------------------------+------------------+------------------+--------------------+\n",
      "\n"
     ]
    }
   ],
   "source": [
    "for column in ['confidence', 'lift', 'support']:\n",
    "    results = results.withColumn(column, round(results[column], 3))\n",
    "\n",
    "results.sort(col('lift').desc()).show(50, truncate=False)"
   ]
  },
  {
   "cell_type": "code",
   "execution_count": null,
   "metadata": {
    "id": "m93NlrV5uZqk",
    "outputId": "0f323700-b581-4d63-9746-d35055a99772"
   },
   "outputs": [
    {
     "name": "stdout",
     "output_type": "stream",
     "text": [
      "+---------------------------------------------------------------------+----+\n",
      "|items                                                                |freq|\n",
      "+---------------------------------------------------------------------+----+\n",
      "|[PINK FAIRY CAKE CHILDRENS APRON]                                    |386 |\n",
      "|[RECIPE BOX RETROSPOT]                                               |428 |\n",
      "|[SET OF 3 BUTTERFLY COOKIE CUTTERS]                                  |485 |\n",
      "|[PAPER CHAIN KIT EMPIRE]                                             |372 |\n",
      "|[JUMBO  BAG BAROQUE BLACK WHITE]                                     |641 |\n",
      "|[WOODLAND CHARLOTTE BAG]                                             |524 |\n",
      "|[SET OF 20 KIDS COOKIE CUTTERS]                                      |405 |\n",
      "|[DOORMAT HEARTS]                                                     |465 |\n",
      "|[POTTERING IN THE SHED METAL SIGN]                                   |367 |\n",
      "|[HAND OVER THE CHOCOLATE   SIGN]                                     |589 |\n",
      "|[JUMBO BAG SCANDINAVIAN BLUE PAISLEY]                                |445 |\n",
      "|[JUMBO STORAGE BAG SUKI]                                             |768 |\n",
      "|[JUMBO STORAGE BAG SUKI, JUMBO BAG RED RETROSPOT]                    |431 |\n",
      "|[HOT WATER BOTTLE TEA AND SYMPATHY]                                  |504 |\n",
      "|[SPACEBOY LUNCH BOX]                                                 |688 |\n",
      "|[HAND WARMER OWL DESIGN]                                             |568 |\n",
      "|[PAPER CHAIN KIT 50'S CHRISTMAS]                                     |963 |\n",
      "|[JAM MAKING SET WITH JARS]                                           |839 |\n",
      "|[WHITE HANGING HEART T-LIGHT HOLDER]                                 |1919|\n",
      "|[RED RETROSPOT PICNIC BAG]                                           |372 |\n",
      "|[JUMBO BAG PEARS]                                                    |462 |\n",
      "|[WHITE WOOD GARDEN PLANT LADDER]                                     |367 |\n",
      "|[RECYCLING BAG RETROSPOT]                                            |405 |\n",
      "|[SET OF 3 WOODEN HEART DECORATIONS]                                  |383 |\n",
      "|[LARGE WHITE HEART OF WICKER]                                        |504 |\n",
      "|[LUNCH BAG VINTAGE LEAF DESIGN]                                      |588 |\n",
      "|[CREAM HEART CARD HOLDER]                                            |445 |\n",
      "|[DOORMAT RED RETROSPOT]                                              |561 |\n",
      "|[VINTAGE SNAP CARDS]                                                 |683 |\n",
      "|[NATURAL SLATE HEART CHALKBOARD]                                     |951 |\n",
      "|[SET OF 60 PANTRY DESIGN CAKE CASES]                                 |483 |\n",
      "|[FELTCRAFT BUTTERFLY HEARTS]                                         |428 |\n",
      "|[RETROSPOT HEART HOT WATER BOTTLE]                                   |520 |\n",
      "|[JAM MAKING SET PRINTED]                                             |829 |\n",
      "|[DOORMAT KEEP CALM AND COME IN]                                      |641 |\n",
      "|[JUMBO BAG VINTAGE LEAF]                                             |751 |\n",
      "|[REGENCY CAKESTAND 3 TIER]                                           |1627|\n",
      "|[HAND WARMER UNION JACK]                                             |441 |\n",
      "|[TRAVEL SEWING KIT]                                                  |381 |\n",
      "|[HOMEMADE JAM SCENTED CANDLES]                                       |502 |\n",
      "|[CHARLOTTE BAG PINK POLKADOT]                                        |482 |\n",
      "|[FAWN BLUE HOT WATER BOTTLE]                                         |372 |\n",
      "|[GUMBALL COAT RACK]                                                  |560 |\n",
      "|[ENAMEL FLOWER JUG CREAM]                                            |427 |\n",
      "|[HOME BUILDING BLOCK WORD]                                           |679 |\n",
      "|[SET OF 6 SPICE TINS PANTRY DESIGN]                                  |638 |\n",
      "|[ALARM CLOCK BAKELIKE IVORY]                                         |461 |\n",
      "|[BAKING SET 9 PIECE RETROSPOT]                                       |824 |\n",
      "|[COLOUR GLASS T-LIGHT HOLDER HANGING]                                |520 |\n",
      "|[WOOD BLACK BOARD ANT WHITE FINISH]                                  |587 |\n",
      "|[GARDENERS KNEELING PAD KEEP CALM]                                   |749 |\n",
      "|[JUMBO BAG RED RETROSPOT]                                            |1573|\n",
      "|[LUNCH BAG CARS BLUE]                                                |948 |\n",
      "|[LUNCH BAG CARS BLUE, LUNCH BAG  BLACK SKULL.]                       |417 |\n",
      "|[LUNCH BAG CARS BLUE, LUNCH BAG SPACEBOY DESIGN]                     |386 |\n",
      "|[LUNCH BAG CARS BLUE, LUNCH BAG RED RETROSPOT]                       |449 |\n",
      "|[JUMBO BAG OWLS]                                                     |403 |\n",
      "|[WOODEN BOX OF DOMINOES]                                             |439 |\n",
      "|[HOT BATHS METAL SIGN]                                               |381 |\n",
      "|[PAPER BUNTING RETROSPOT]                                            |558 |\n",
      "|[RED KITCHEN SCALES]                                                 |425 |\n",
      "|[72 SWEETHEART FAIRY CAKE CASES]                                     |480 |\n",
      "|[AREA PATROLLED METAL SIGN]                                          |371 |\n",
      "|[LUNCH BAG ALPHABET DESIGN]                                          |631 |\n",
      "|[DOORMAT UNION FLAG]                                                 |515 |\n",
      "|[HANGING HEART ZINC T-LIGHT HOLDER]                                  |400 |\n",
      "|[LUNCH BAG WOODLAND]                                                 |806 |\n",
      "|[LUNCH BAG WOODLAND, LUNCH BAG SPACEBOY DESIGN]                      |402 |\n",
      "|[LUNCH BAG WOODLAND, LUNCH BAG RED RETROSPOT]                        |427 |\n",
      "|[LUNCH BAG DOILEY PATTERN]                                           |458 |\n",
      "|[ASSORTED COLOUR BIRD ORNAMENT]                                      |1358|\n",
      "|[LUNCH BAG DOLLY GIRL DESIGN]                                        |587 |\n",
      "|[SET/5 RED RETROSPOT LID GLASS BOWLS]                                |742 |\n",
      "|[PLASTERS IN TIN CIRCUS PARADE]                                      |501 |\n",
      "|[HEART OF WICKER SMALL]                                              |943 |\n",
      "|[SET OF 3 REGENCY CAKE TINS]                                         |679 |\n",
      "|[RED RETROSPOT SHOPPER BAG]                                          |380 |\n",
      "|[HAND WARMER BIRD DESIGN]                                            |473 |\n",
      "|[CHARLOTTE BAG APPLES DESIGN]                                        |421 |\n",
      "|[DOORMAT FANCY FONT HOME SWEET HOME]                                 |370 |\n",
      "|[RED DINER WALL CLOCK]                                               |399 |\n",
      "|[WORLD WAR 2 GLIDERS ASSTD DESIGNS]                                  |454 |\n",
      "|[RED TOADSTOOL LED NIGHT LIGHT]                                      |513 |\n",
      "|[GARDENERS KNEELING PAD CUP OF TEA]                                  |631 |\n",
      "|[GARDENERS KNEELING PAD CUP OF TEA, GARDENERS KNEELING PAD KEEP CALM]|461 |\n",
      "|[ROSES REGENCY TEACUP AND SAUCER]                                    |734 |\n",
      "|[ROSES REGENCY TEACUP AND SAUCER, REGENCY CAKESTAND 3 TIER]          |387 |\n",
      "|[PARTY BUNTING]                                                      |1352|\n",
      "|[LOVE HOT WATER BOTTLE]                                              |438 |\n",
      "|[ROUND SNACK BOXES SET OF4 WOODLAND]                                 |586 |\n",
      "|[LUNCH BOX I LOVE LONDON]                                            |501 |\n",
      "|[LUNCH BAG PINK POLKADOT]                                            |914 |\n",
      "|[LUNCH BAG PINK POLKADOT, LUNCH BAG  BLACK SKULL.]                   |455 |\n",
      "|[LUNCH BAG PINK POLKADOT, LUNCH BAG RED RETROSPOT]                   |510 |\n",
      "|[LUNCH BAG PINK POLKADOT, LUNCH BAG CARS BLUE]                       |421 |\n",
      "|[HANGING HEART JAR T-LIGHT HOLDER]                                   |555 |\n",
      "|[PLEASE ONE PERSON METAL SIGN]                                       |678 |\n",
      "|[VICTORIAN GLASS HANGING T-LIGHT]                                    |803 |\n",
      "|[FELTCRAFT 6 FLOWER FRIENDS]                                         |453 |\n",
      "|[PACK OF 20 NAPKINS PANTRY DESIGN]                                   |513 |\n",
      "+---------------------------------------------------------------------+----+\n",
      "only showing top 100 rows\n",
      "\n"
     ]
    }
   ],
   "source": [
    "frequent_itemsets = model.freqItemsets\n",
    "frequent_itemsets.show(100,truncate=False)"
   ]
  },
  {
   "cell_type": "code",
   "execution_count": null,
   "metadata": {
    "id": "sxCalj1FuZqk",
    "outputId": "74864aab-9922-4d87-e5f0-e401fddb5cea"
   },
   "outputs": [
    {
     "name": "stdout",
     "output_type": "stream",
     "text": [
      "+--------------------+----+\n",
      "|               items|freq|\n",
      "+--------------------+----+\n",
      "|[JUMBO STORAGE BA...| 431|\n",
      "|[LUNCH BAG CARS B...| 417|\n",
      "|[LUNCH BAG CARS B...| 386|\n",
      "|[LUNCH BAG CARS B...| 449|\n",
      "|[LUNCH BAG WOODLA...| 402|\n",
      "|[LUNCH BAG WOODLA...| 427|\n",
      "|[GARDENERS KNEELI...| 461|\n",
      "|[ROSES REGENCY TE...| 387|\n",
      "|[LUNCH BAG PINK P...| 455|\n",
      "|[LUNCH BAG PINK P...| 510|\n",
      "|[LUNCH BAG PINK P...| 421|\n",
      "|[LUNCH BAG SUKI D...| 406|\n",
      "|[LUNCH BAG SUKI D...| 376|\n",
      "|[LUNCH BAG SUKI D...| 448|\n",
      "|[LUNCH BAG SUKI D...| 386|\n",
      "|[LUNCH BAG RED RE...| 419|\n",
      "|[RED HANGING HEAR...| 439|\n",
      "|[GREEN REGENCY TE...| 506|\n",
      "|[WOODEN FRAME ANT...| 466|\n",
      "|[JUMBO BAG PINK P...| 540|\n",
      "+--------------------+----+\n",
      "only showing top 20 rows\n",
      "\n"
     ]
    }
   ],
   "source": [
    "fre_df = frequent_itemsets.filter(size('items') >= 2)\n",
    "fre_df.show()"
   ]
  },
  {
   "cell_type": "code",
   "execution_count": null,
   "metadata": {
    "id": "ytQxK26suZql"
   },
   "outputs": [],
   "source": []
  }
 ],
 "metadata": {
  "colab": {
   "provenance": []
  },
  "kernelspec": {
   "display_name": "Python 3 (ipykernel)",
   "language": "python",
   "name": "python3"
  },
  "language_info": {
   "codemirror_mode": {
    "name": "ipython",
    "version": 3
   },
   "file_extension": ".py",
   "mimetype": "text/x-python",
   "name": "python",
   "nbconvert_exporter": "python",
   "pygments_lexer": "ipython3",
   "version": "3.9.13"
  }
 },
 "nbformat": 4,
 "nbformat_minor": 1
}
